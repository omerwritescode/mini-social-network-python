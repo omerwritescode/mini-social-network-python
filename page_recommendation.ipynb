{
 "cells": [
  {
   "cell_type": "code",
   "execution_count": 44,
   "id": "98c43b4d-bd5b-4b1e-81c7-f0a507cb5bb3",
   "metadata": {},
   "outputs": [],
   "source": [
    "import json"
   ]
  },
  {
   "cell_type": "code",
   "execution_count": 45,
   "id": "e9333143-535e-4c21-ac44-0f51bb38ac7f",
   "metadata": {},
   "outputs": [
    {
     "name": "stdout",
     "output_type": "stream",
     "text": [
      "[(103, 2), (105, 1), (107, 1), (104, 0), (106, 0), (108, 0), (109, 0), (110, 0), (111, 0), (112, 0), (113, 0), (114, 0), (115, 0), (116, 0), (117, 0), (118, 0), (119, 0), (120, 0), (121, 0), (122, 0), (123, 0), (124, 0), (125, 0), (126, 0), (127, 0)]\n"
     ]
    }
   ],
   "source": [
    "# Function to load the JSON data\n",
    "def load_data(filename):\n",
    "    with open(filename, \"r\") as f:\n",
    "        return json.load(f)\n",
    "\n",
    "# Function to find pages a user might like based on common interest\n",
    "def find_pages_you_might_like(user_id, data):\n",
    "    # Dictionary to store user interactions with pages\n",
    "    user_pages = {}\n",
    "    # Populate the dictionary\n",
    "    for user in data['users']:\n",
    "        user_pages[user['id']] = set(user['liked_pages'])\n",
    "\n",
    "    # If the user is not found, return an empty list\n",
    "    if user_id not in user_pages:\n",
    "        return []\n",
    "\n",
    "    # In the following variable, we store the pages directly liked by the user\n",
    "    user_liked_pages = user_pages[user_id]\n",
    "\n",
    "    page_suggestion = {}\n",
    "    for other_user, pages in user_pages.items():\n",
    "        if other_user != user_id:\n",
    "            shared_pages = user_liked_pages.intersection(pages)\n",
    "        for page in pages:\n",
    "            if page not in user_liked_pages:\n",
    "                page_suggestion[page] = page_suggestion.get(page, 0) + len(shared_pages)\n",
    "\n",
    "    sorted_pages = sorted(page_suggestion.items(), key = lambda x: x[1], reverse = True)\n",
    "    return [(page_id, score) for page_id, score in sorted_pages]\n",
    "\n",
    "data = load_data(\"massive_data.json\")\n",
    "user_id = 1\n",
    "page_recommendation = find_pages_you_might_like(user_id, data)\n",
    "print(page_recommendation)"
   ]
  },
  {
   "cell_type": "code",
   "execution_count": null,
   "id": "7c0d3c05-2335-4e83-a50b-e1000f2b0064",
   "metadata": {},
   "outputs": [],
   "source": []
  }
 ],
 "metadata": {
  "kernelspec": {
   "display_name": "Python 3 (ipykernel)",
   "language": "python",
   "name": "python3"
  },
  "language_info": {
   "codemirror_mode": {
    "name": "ipython",
    "version": 3
   },
   "file_extension": ".py",
   "mimetype": "text/x-python",
   "name": "python",
   "nbconvert_exporter": "python",
   "pygments_lexer": "ipython3",
   "version": "3.11.7"
  }
 },
 "nbformat": 4,
 "nbformat_minor": 5
}
